{
 "cells": [
  {
   "cell_type": "code",
   "execution_count": 1,
   "metadata": {
    "executionInfo": {
     "elapsed": 18,
     "status": "ok",
     "timestamp": 1629189508993,
     "user": {
      "displayName": "Zanjabila _",
      "photoUrl": "",
      "userId": "18022974806779372296"
     },
     "user_tz": -420
    },
    "id": "A9jyV_df_i-W"
   },
   "outputs": [],
   "source": [
    "import splitfolders\n",
    "import os\n",
    "import pandas as pd"
   ]
  },
  {
   "cell_type": "code",
   "execution_count": 2,
   "metadata": {
    "colab": {
     "base_uri": "https://localhost:8080/",
     "height": 335
    },
    "executionInfo": {
     "elapsed": 376,
     "status": "error",
     "timestamp": 1629189927616,
     "user": {
      "displayName": "Zanjabila _",
      "photoUrl": "",
      "userId": "18022974806779372296"
     },
     "user_tz": -420
    },
    "id": "DqMGNVkl_lWv",
    "outputId": "05151364-2187-4fec-a00c-963e772f4bd9"
   },
   "outputs": [],
   "source": [
    "#crate a split direcetory\n",
    "os.makedirs('split')\n",
    "os.makedirs('split/train')\n",
    "os.makedirs('split/val')"
   ]
  },
  {
   "cell_type": "code",
   "execution_count": 3,
   "metadata": {
    "colab": {
     "base_uri": "https://localhost:8080/"
    },
    "executionInfo": {
     "elapsed": 428385,
     "status": "ok",
     "timestamp": 1629168715857,
     "user": {
      "displayName": "Zanjabila _",
      "photoUrl": "",
      "userId": "18022974806779372296"
     },
     "user_tz": -420
    },
    "id": "aE5zC5Eu_rSQ",
    "outputId": "b8618e21-fbba-4e48-efb2-686591279512"
   },
   "outputs": [],
   "source": [
    "#split data to 0.7 for train, 0.2 for val, and 0.1 for test\n",
    "audio_loc = 'dataset'\n",
    "splitfolders.ratio(audio_loc, output='split', seed=1337, ratio=(0.7, 0.2, 0.1))"
   ]
  },
  {
   "cell_type": "code",
   "execution_count": 4,
   "metadata": {
    "executionInfo": {
     "elapsed": 583,
     "status": "ok",
     "timestamp": 1629190518904,
     "user": {
      "displayName": "Zanjabila _",
      "photoUrl": "",
      "userId": "18022974806779372296"
     },
     "user_tz": -420
    },
    "id": "y8VJjNJfJCth"
   },
   "outputs": [],
   "source": [
    "#counting data after split data\n",
    "a = 0\n",
    "b = 0\n",
    "count = []\n",
    "num = []\n",
    "folder = []\n",
    "name = []\n",
    "for f in os.listdir('split/'):\n",
    "  for i in os.listdir('split/'+f):\n",
    "    for x in os.listdir('split/'+f+'/'+ i):\n",
    "      a = a + 1\n",
    "      b = b + 1\n",
    "    num.append(b)\n",
    "    name.append(i)\n",
    "    b = 0\n",
    "  count.append(a)\n",
    "  folder.append(f)\n",
    "  a = 0 \n",
    "\n"
   ]
  },
  {
   "cell_type": "code",
   "execution_count": 5,
   "metadata": {
    "colab": {
     "base_uri": "https://localhost:8080/"
    },
    "executionInfo": {
     "elapsed": 10,
     "status": "ok",
     "timestamp": 1629190583546,
     "user": {
      "displayName": "Zanjabila _",
      "photoUrl": "",
      "userId": "18022974806779372296"
     },
     "user_tz": -420
    },
    "id": "aiAijuMER-mI",
    "outputId": "e01e4db4-bde2-427a-8c4d-1b616a3ec6f2"
   },
   "outputs": [
    {
     "name": "stdout",
     "output_type": "stream",
     "text": [
      "[979, 1954, 6839]\n",
      "['test', 'val', 'train']\n"
     ]
    }
   ],
   "source": [
    "#mount of data in the data train, data val, and data test\n",
    "print(count)\n",
    "print(folder)"
   ]
  },
  {
   "cell_type": "code",
   "execution_count": 11,
   "metadata": {
    "colab": {
     "base_uri": "https://localhost:8080/",
     "height": 299
    },
    "executionInfo": {
     "elapsed": 535,
     "status": "ok",
     "timestamp": 1629190656907,
     "user": {
      "displayName": "Zanjabila _",
      "photoUrl": "",
      "userId": "18022974806779372296"
     },
     "user_tz": -420
    },
    "id": "rEpxT2TCVGje",
    "outputId": "8b13bcea-f76c-4204-9547-7f26e95b375a"
   },
   "outputs": [
    {
     "data": {
      "text/html": [
       "<div>\n",
       "<style scoped>\n",
       "    .dataframe tbody tr th:only-of-type {\n",
       "        vertical-align: middle;\n",
       "    }\n",
       "\n",
       "    .dataframe tbody tr th {\n",
       "        vertical-align: top;\n",
       "    }\n",
       "\n",
       "    .dataframe thead th {\n",
       "        text-align: right;\n",
       "    }\n",
       "</style>\n",
       "<table border=\"1\" class=\"dataframe\">\n",
       "  <thead>\n",
       "    <tr style=\"text-align: right;\">\n",
       "      <th></th>\n",
       "      <th>Categories</th>\n",
       "      <th>Data</th>\n",
       "    </tr>\n",
       "  </thead>\n",
       "  <tbody>\n",
       "    <tr>\n",
       "      <th>0</th>\n",
       "      <td>test</td>\n",
       "      <td>902</td>\n",
       "    </tr>\n",
       "    <tr>\n",
       "      <th>1</th>\n",
       "      <td>val</td>\n",
       "      <td>1799</td>\n",
       "    </tr>\n",
       "    <tr>\n",
       "      <th>2</th>\n",
       "      <td>train</td>\n",
       "      <td>6297</td>\n",
       "    </tr>\n",
       "  </tbody>\n",
       "</table>\n",
       "</div>"
      ],
      "text/plain": [
       "  Categories  Data\n",
       "0       test   902\n",
       "1        val  1799\n",
       "2      train  6297"
      ]
     },
     "execution_count": 11,
     "metadata": {},
     "output_type": "execute_result"
    }
   ],
   "source": [
    "datas = {'Categories': folder,\n",
    "        'Data': count, \n",
    "        }\n",
    "df = pd.DataFrame(datas, columns = ['Categories', 'Data'])\n",
    "df.head(8)"
   ]
  }
 ],
 "metadata": {
  "colab": {
   "authorship_tag": "ABX9TyNNBP48Sqb1KNbWRiZv73OG",
   "name": "Split",
   "provenance": []
  },
  "kernelspec": {
   "display_name": "Python 3",
   "language": "python",
   "name": "python3"
  },
  "language_info": {
   "codemirror_mode": {
    "name": "ipython",
    "version": 3
   },
   "file_extension": ".py",
   "mimetype": "text/x-python",
   "name": "python",
   "nbconvert_exporter": "python",
   "pygments_lexer": "ipython3",
   "version": "3.9.5"
  }
 },
 "nbformat": 4,
 "nbformat_minor": 1
}
