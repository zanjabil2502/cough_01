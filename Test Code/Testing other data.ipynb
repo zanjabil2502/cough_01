{
 "cells": [
  {
   "cell_type": "code",
   "execution_count": 1,
   "metadata": {},
   "outputs": [],
   "source": [
    "import numpy as np\n",
    "import os\n",
    "from os import listdir\n",
    "from os.path import isfile, join\n",
    "import librosa\n",
    "import librosa.display\n",
    "\n",
    "import numpy as np\n",
    "import tensorflow as tf\n",
    "from tensorflow import keras\n",
    "from tensorflow.keras.models import Sequential\n",
    "from tensorflow.keras.layers import Conv1D, MaxPooling1D, Dense, Flatten, Dropout, SeparableConv1D, BatchNormalization, InputLayer, Activation\n",
    "from keras import callbacks\n",
    "from keras.callbacks import EarlyStopping, ModelCheckpoint\n",
    "import matplotlib.pyplot as plt\n",
    "from sklearn.model_selection import train_test_split\n",
    "from tensorflow.keras.utils import plot_model,to_categorical\n",
    "import pandas as pd\n",
    "import seaborn as sns"
   ]
  },
  {
   "cell_type": "code",
   "execution_count": 4,
   "metadata": {},
   "outputs": [],
   "source": [
    "model = Sequential()\n",
    "model.add(InputLayer(input_shape=(20,1)))\n",
    "\n",
    "model.add(Conv1D(8, kernel_size=3))\n",
    "model.add(BatchNormalization())\n",
    "model.add(Activation('relu'))\n",
    "model.add(MaxPooling1D(2)) \n",
    "\n",
    "model.add(Conv1D(16, kernel_size=3))\n",
    "model.add(BatchNormalization())\n",
    "model.add(Activation('relu'))\n",
    "model.add(MaxPooling1D(2)) \n",
    "\n",
    "model.add(Conv1D(32, kernel_size=3))\n",
    "model.add(BatchNormalization())\n",
    "model.add(Activation('relu'))\n",
    "\n",
    "model.add(Flatten())\n",
    "\n",
    "model.add(Dense(500))\n",
    "model.add(Activation('relu'))\n",
    "\n",
    "model.add(Dense(450))\n",
    "model.add(Activation('relu'))\n",
    "\n",
    "model.add(Dense(2))\n",
    "model.add(Activation('softmax'))\n",
    "\n",
    "model.compile(loss='categorical_crossentropy', optimizer='adam', metrics=['accuracy'])"
   ]
  },
  {
   "cell_type": "code",
   "execution_count": 5,
   "metadata": {},
   "outputs": [],
   "source": [
    "model.load_weights(\"cough_02.h5\")"
   ]
  },
  {
   "cell_type": "code",
   "execution_count": 13,
   "metadata": {},
   "outputs": [
    {
     "name": "stdout",
     "output_type": "stream",
     "text": [
      "Process...\n",
      "DONE!!\n"
     ]
    }
   ],
   "source": [
    "images_tes = []\n",
    "name = []\n",
    "\n",
    "dir = \"Data Test/\"\n",
    "\n",
    "print(\"Process...\")\n",
    "for file in listdir(dir):\n",
    "    filename =dir+\"/\"+file\n",
    "    sound, sample_rate = librosa.load(filename)\n",
    "    mfcc = np.mean(librosa.feature.mfcc(y=sound, sr=sample_rate),axis=1)\n",
    "    images_tes.append(mfcc)\n",
    "    name.append(file)\n",
    "        \n",
    "print(\"DONE!!\")"
   ]
  },
  {
   "cell_type": "code",
   "execution_count": 14,
   "metadata": {},
   "outputs": [],
   "source": [
    "images_tes = np.array(images_tes)"
   ]
  },
  {
   "cell_type": "code",
   "execution_count": 15,
   "metadata": {},
   "outputs": [
    {
     "name": "stdout",
     "output_type": "stream",
     "text": [
      "(109, 20, 1)\n"
     ]
    }
   ],
   "source": [
    "images_tes = np.reshape(images_tes, (images_tes.shape[0], images_tes.shape[1], 1))\n",
    "print(images_tes.shape)"
   ]
  },
  {
   "cell_type": "code",
   "execution_count": 16,
   "metadata": {},
   "outputs": [],
   "source": [
    "preds = model.predict(images_tes)"
   ]
  },
  {
   "cell_type": "code",
   "execution_count": 17,
   "metadata": {},
   "outputs": [],
   "source": [
    "classpreds = np.argmax(preds, axis=1) # predicted classes "
   ]
  },
  {
   "cell_type": "code",
   "execution_count": 18,
   "metadata": {},
   "outputs": [
    {
     "name": "stdout",
     "output_type": "stream",
     "text": [
      "[0 0 0 0 0 0 0 0 0 0 0 0 0 0 0 0 0 0 0 0 0 0 0 0 0 0 1 0 0 0 0 0 0 0 0 0 0\n",
      " 0 0 0 0 0 0 0 0 0 0 0 0 0 0 0 0 0 0 0 0 0 0 0 0 0 0 0 0 0 0 0 0 0 0 0 0 0\n",
      " 0 0 0 0 0 0 0 0 0 0 0 0 0 0 0 0 0 0 0 0 0 0 0 0 0 0 0 0 0 0 0 0 0 0 0]\n"
     ]
    }
   ],
   "source": [
    "print(classpreds)"
   ]
  },
  {
   "cell_type": "code",
   "execution_count": 19,
   "metadata": {},
   "outputs": [
    {
     "name": "stdout",
     "output_type": "stream",
     "text": [
      "neg-0421-091-cough-m-47-1.wav cough\n",
      "neg-0421-089-cough-f-20-3.wav cough\n",
      "neg-0422-097-cough-m-37-3.wav cough\n",
      "pos-0421-093-cough-f-24-0.wav cough\n",
      "neg-0421-088-cough-f-66-4.wav cough\n",
      "neg-0421-083-cough-m-53-17.wav cough\n",
      "pos-0421-084-cough-m-50-0.wav cough\n",
      "pos-0421-094-cough-m-51-5.wav cough\n",
      "neg-0422-097-cough-m-37-9.wav cough\n",
      "pos-0421-094-cough-m-51-2.wav cough\n",
      "neg-0421-083-cough-m-53-2.wav cough\n",
      "neg-0421-090-cough-f-17-1.wav cough\n",
      "pos-0421-084-cough-m-50-7.wav cough\n",
      "neg-0421-083-cough-m-53-10.wav cough\n",
      "pos-0421-084-cough-m-50-4.wav cough\n",
      "neg-0421-091-cough-m-47-2.wav cough\n",
      "neg-0422-095-cough-m-53-6.wav cough\n",
      "pos-0421-084-cough-m-50-5.wav cough\n",
      "neg-0422-095-cough-m-53-3.wav cough\n",
      "pos-0421-093-cough-f-24-6.wav cough\n",
      "neg-0421-089-cough-f-20-0.wav cough\n",
      "neg-0421-091-cough-m-47-3.wav cough\n",
      "neg-0422-095-cough-m-53-5.wav cough\n",
      "pos-0421-093-cough-f-24-1.wav cough\n",
      "neg-0421-083-cough-m-53-0.wav cough\n",
      "neg-0421-090-cough-f-17-7.wav cough\n",
      "pos-0421-092-cough-m-53-7.wav talk\n",
      "neg-0421-090-cough-f-17-4.wav cough\n",
      "neg-0421-085-cough-m-43-2.wav cough\n",
      "neg-0421-088-cough-f-66-6.wav cough\n",
      "neg-0422-098-cough-f-24-0.wav cough\n",
      "neg-0421-090-cough-f-17-2.wav cough\n",
      "neg-0421-089-cough-f-20-5.wav cough\n",
      "neg-0422-095-cough-m-53-0.wav cough\n",
      "neg-0422-095-cough-m-53-1.wav cough\n",
      "neg-0421-090-cough-f-17-6.wav cough\n",
      "neg-0422-097-cough-m-37-4.wav cough\n",
      "neg-0421-089-cough-f-20-4.wav cough\n",
      "neg-0421-091-cough-m-47-4.wav cough\n",
      "pos-0421-093-cough-f-24-2.wav cough\n",
      "pos-0421-092-cough-m-53-6.wav cough\n",
      "neg-0421-083-cough-m-53-4.wav cough\n",
      "neg-0421-083-cough-m-53-13.wav cough\n",
      "neg-0422-095-cough-m-53-14.wav cough\n",
      "neg-0421-088-cough-f-66-2.wav cough\n",
      "neg-0421-083-cough-m-53-11.wav cough\n",
      "neg-0421-091-cough-m-47-6.wav cough\n",
      "pos-0421-092-cough-m-53-5.wav cough\n",
      "pos-0421-087-cough-f-40-0.wav cough\n",
      "neg-0421-089-cough-f-20-6.wav cough\n",
      "pos-0422-096-cough-m-31-8.wav cough\n",
      "pos-0421-092-cough-m-53-12.wav cough\n",
      "neg-0422-095-cough-m-53-10.wav cough\n",
      "pos-0421-087-cough-f-40-6.wav cough\n",
      "pos-0421-092-cough-m-53-13.wav cough\n",
      "pos-0421-084-cough-m-50-3.wav cough\n",
      "neg-0421-088-cough-f-66-8.wav cough\n",
      "neg-0421-088-cough-f-66-1.wav cough\n",
      "neg-0421-083-cough-m-53-6.wav cough\n",
      "neg-0421-083-cough-m-53-3.wav cough\n",
      "pos-0422-096-cough-m-31-6.wav cough\n",
      "neg-0421-083-cough-m-53-5.wav cough\n",
      "neg-0422-098-cough-f-24-5.wav cough\n",
      "neg-0422-098-cough-f-24-1.wav cough\n",
      "neg-0421-083-cough-m-53-16.wav cough\n",
      "neg-0422-095-cough-m-53-13.wav cough\n",
      "pos-0421-087-cough-f-40-1.wav cough\n",
      "neg-0422-097-cough-m-37-1.wav cough\n",
      "neg-0421-088-cough-f-66-0.wav cough\n",
      "pos-0421-092-cough-m-53-1.wav cough\n",
      "neg-0421-088-cough-f-66-5.wav cough\n",
      "pos-0421-087-cough-f-40-2.wav cough\n",
      "neg-0421-090-cough-f-17-3.wav cough\n",
      "neg-0421-083-cough-m-53-8.wav cough\n",
      "neg-0422-095-cough-m-53-4.wav cough\n",
      "pos-0421-092-cough-m-53-9.wav cough\n",
      "neg-0421-089-cough-f-20-2.wav cough\n",
      "pos-0421-094-cough-m-51-0.wav cough\n",
      "pos-0421-087-cough-f-40-3.wav cough\n",
      "pos-0421-094-cough-m-51-3.wav cough\n",
      "pos-0421-084-cough-m-50-1.wav cough\n",
      "pos-0421-084-cough-m-50-2.wav cough\n",
      "neg-0421-083-cough-m-53-12.wav cough\n",
      "pos-0421-092-cough-m-53-3.wav cough\n",
      "pos-0421-094-cough-m-51-6.wav cough\n",
      "neg-0421-090-cough-f-17-11.wav cough\n",
      "pos-0422-096-cough-m-31-2.wav cough\n",
      "neg-0421-091-cough-m-47-5.wav cough\n",
      "pos-0421-094-cough-m-51-7.wav cough\n",
      "neg-0421-091-cough-m-47-7.wav cough\n",
      "neg-0421-085-cough-m-43-1.wav cough\n",
      "neg-0421-083-cough-m-53-7.wav cough\n",
      "neg-0421-090-cough-f-17-5.wav cough\n",
      "neg-0422-095-cough-m-53-12.wav cough\n",
      "neg-0422-095-cough-m-53-8.wav cough\n",
      "neg-0421-083-cough-m-53-14.wav cough\n",
      "neg-0421-083-cough-m-53-15.wav cough\n",
      "pos-0421-093-cough-f-24-5.wav cough\n",
      "neg-0421-083-cough-m-53-1.wav cough\n",
      "neg-0422-095-cough-m-53-2.wav cough\n",
      "neg-0422-095-cough-m-53-9.wav cough\n",
      "neg-0421-088-cough-f-66-3.wav cough\n",
      "neg-0421-091-cough-m-47-8.wav cough\n",
      "pos-0421-092-cough-m-53-0.wav cough\n",
      "pos-0422-096-cough-m-31-1.wav cough\n",
      "neg-0422-097-cough-m-37-8.wav cough\n",
      "pos-0421-084-cough-m-50-6.wav cough\n",
      "pos-0421-087-cough-f-40-5.wav cough\n",
      "neg-0422-095-cough-m-53-7.wav cough\n"
     ]
    }
   ],
   "source": [
    "num = 0\n",
    "for f in classpreds:\n",
    "    if (f == 0):\n",
    "        print(name[num],\"cough\")\n",
    "    elif (f== 1):\n",
    "        print(name[num],\"talk\")\n",
    "    num = num+1"
   ]
  },
  {
   "cell_type": "code",
   "execution_count": null,
   "metadata": {},
   "outputs": [],
   "source": []
  }
 ],
 "metadata": {
  "kernelspec": {
   "display_name": "Python 3",
   "language": "python",
   "name": "python3"
  },
  "language_info": {
   "codemirror_mode": {
    "name": "ipython",
    "version": 3
   },
   "file_extension": ".py",
   "mimetype": "text/x-python",
   "name": "python",
   "nbconvert_exporter": "python",
   "pygments_lexer": "ipython3",
   "version": "3.9.5"
  }
 },
 "nbformat": 4,
 "nbformat_minor": 4
}
