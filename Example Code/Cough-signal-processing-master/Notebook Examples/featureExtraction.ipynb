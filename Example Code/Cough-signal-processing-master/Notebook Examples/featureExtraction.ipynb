{
 "cells": [
  {
   "cell_type": "markdown",
   "metadata": {},
   "source": [
    "# This notbook contains code to extract features\n",
    "\n",
    "\n",
    "1. Librosa is used to extract features. \n",
    "2. The list of extracted features could be expanded. "
   ]
  },
  {
   "cell_type": "markdown",
   "metadata": {},
   "source": [
    "**List of created features**\n",
    "1. Energy\n",
    "2. Mel Spectogram 40 bands\n",
    "3. MFCC 13 bands\n",
    "4. Spectral Centroid\n",
    "5. Spectral Bandwidth\n",
    "6. Spectral Rolloff\n",
    "7. Zero Crossing Rate \n",
    "\n",
    "**Total number of features created = 58**"
   ]
  },
  {
   "cell_type": "code",
   "execution_count": 2,
   "metadata": {
    "ExecuteTime": {
     "end_time": "2019-11-08T10:32:57.644545Z",
     "start_time": "2019-11-08T10:32:48.985496Z"
    }
   },
   "outputs": [],
   "source": [
    "import librosa\n",
    "import numpy as np\n",
    "import pandas as pd\n",
    "from datetime import timedelta\n",
    "import glob\n",
    "import natsort"
   ]
  },
  {
   "cell_type": "code",
   "execution_count": 3,
   "metadata": {
    "ExecuteTime": {
     "end_time": "2019-11-07T14:35:41.244886Z",
     "start_time": "2019-11-07T14:35:41.213628Z"
    }
   },
   "outputs": [],
   "source": [
    "def ExtractFeatures(soundData,samplingFrequency, frameLength, hopLength):\n",
    "    #----EXTRACTING FEATURES------------    \n",
    "    \n",
    "        #--------Energy----------------\n",
    "    energy = librosa.feature.rms(y=soundData, center=False, frame_length = frameLength, hop_length=hopLength)\n",
    "        #------melspectogram----------\n",
    "    mel_spectrum = librosa.feature.melspectrogram(y=soundData, sr=samplingFrequency, center=False, \n",
    "                                                  n_mels=40,hop_length=hopLength)\n",
    "        #-------MFCC------------------\n",
    "    mfcc= librosa.feature.mfcc(y=soundData,sr=samplingFrequency, n_mfcc=13, hop_length=hopLength)\n",
    "        #--------Spec Centroid---------\n",
    "    spec_centr = librosa.feature.spectral_centroid(y=soundData, sr=samplingFrequency, hop_length=hopLength, center=False)\n",
    "        #--------Spec_bandwidth--------\n",
    "    spec_bandwidth = librosa.feature.spectral_bandwidth(y = soundData, sr = samplingFrequency, \n",
    "                                                        hop_length=hopLength, center=False)\n",
    "        #--------Spec_contrast---------\n",
    "    spec_contrast = librosa.feature.spectral_contrast(y = soundData, sr = samplingFrequency, \n",
    "                                                      hop_length=hopLength, center=False)\n",
    "        #------Spec Rolloff--------------\n",
    "    spec_rolloff = librosa.feature.spectral_rolloff(y=soundData, sr=samplingFrequency, \n",
    "                                                    hop_length=hopLength, center=False, roll_percent=0.90)\n",
    "        #------Tonal Centroid------------\n",
    "    #tonal_centroid = librosa.feature.tonnetz(y=t['data'], sr=t['FS'])\n",
    "        #------ZCR---------------------\n",
    "    zcr = librosa.feature.zero_crossing_rate(y=soundData, frame_length=frameLength, \n",
    "                                             hop_length=hopLength, center=False)\n",
    "    \n",
    "    \"\"\"    #-----TIMESTAMP CREATION------\n",
    "    start_timestamp=t['t']+timedelta(seconds=5)\n",
    "    timestamp = pd.date_range(start=start_timestamp,freq='10S', periods=60 )\"\"\"\n",
    "    \n",
    "    #----COLUMN NAMES CREATION-----------\n",
    "    energy_col_name = ['Energy']\n",
    "    mel_spectrum_col_names = ['melspectrum_{}'.format(i) for i in range(0, mel_spectrum.shape[0])]\n",
    "    mfcc_feature_col_names = ['mfcc_{}'.format(i) for i in range(0, mfcc.shape[0])]\n",
    "    spec_centr_col_name = ['Spectral_Centroid']\n",
    "    spec_bandwidth_col_name = ['Spectral_Bandwidth']\n",
    "    spec_contrast_band0 = ['Spectral_Contrast_0_200']\n",
    "    spec_contrast_band1 = ['Spectral_Contrast_200_400']\n",
    "    spec_contrast_band2 = ['Spectral_Contrast_400_800']\n",
    "    spec_contrast_band3 = ['Spectral_Contrast_800_1600']\n",
    "    spec_contrast_band4 = ['Spectral_Contrast_1600_3200']\n",
    "    spec_contrast_band5 = ['Spectral_Contrast_3200_6400']\n",
    "    spec_contrast_band6 = ['Spectral_Contrast_6400_12800']\n",
    "    spec_rolloff_col_name = ['Spectral_Rolloff']\n",
    "    #toanl_centroid_col_name = ['Tonal_Centroid']\n",
    "    zcr_col_name = ['Zero_Crossing_Rate']\n",
    "    column_names = [energy_col_name + mel_spectrum_col_names + mfcc_feature_col_names + \n",
    "                    spec_centr_col_name + spec_bandwidth_col_name + spec_contrast_band0 + \n",
    "                    spec_contrast_band1 + spec_contrast_band2 + spec_contrast_band3 +\n",
    "                    spec_contrast_band4 + spec_contrast_band5 + spec_contrast_band6 + \n",
    "                    spec_rolloff_col_name + zcr_col_name]\n",
    "    \n",
    "    #---CREATING A NUMPY ARRAY OF FEATURES------\n",
    "    numpy_array_of_features = np.vstack((energy, mel_spectrum, mfcc, spec_centr, spec_bandwidth, spec_contrast,\n",
    "                                         spec_rolloff, zcr))\n",
    "    \n",
    "    #----CREATING A PANDAS DATAFRAME OF FEATURES----\n",
    "    oneSecondFeatures= pd.DataFrame(numpy_array_of_features.T, columns=column_names)\n",
    "    \n",
    "    return oneSecondFeatures"
   ]
  },
  {
   "cell_type": "code",
   "execution_count": 4,
   "metadata": {
    "ExecuteTime": {
     "end_time": "2019-11-07T14:35:48.265191Z",
     "start_time": "2019-11-07T14:35:48.233933Z"
    }
   },
   "outputs": [],
   "source": [
    "# filelist = 'Create a list of the names of the sound files of which the features are to be extracted'\n",
    "filelist = natsort.natsorted(filelist)"
   ]
  },
  {
   "cell_type": "code",
   "execution_count": 5,
   "metadata": {
    "ExecuteTime": {
     "end_time": "2019-11-07T14:36:00.430896Z",
     "start_time": "2019-11-07T14:35:53.943638Z"
    }
   },
   "outputs": [],
   "source": [
    "featuresFile=pd.DataFrame()\n",
    "\n",
    "for i in range(len(filelist)):\n",
    "    soundData, samplingFrequency = librosa.load(filelist[i], sr=None)\n",
    "    oneFileFeatures = ExtractFeatures(soundData,samplingFrequency,frameLength=samplingFrequency, hopLength=samplingFrequency+1)\n",
    "    featuresFile=featuresFile.append(oneFileFeaturese)"
   ]
  },
  {
   "cell_type": "code",
   "execution_count": null,
   "metadata": {},
   "outputs": [],
   "source": [
    "featureFile.head()"
   ]
  }
 ],
 "metadata": {
  "kernelspec": {
   "display_name": "Python 3",
   "language": "python",
   "name": "python3"
  },
  "language_info": {
   "codemirror_mode": {
    "name": "ipython",
    "version": 3
   },
   "file_extension": ".py",
   "mimetype": "text/x-python",
   "name": "python",
   "nbconvert_exporter": "python",
   "pygments_lexer": "ipython3",
   "version": "3.7.4"
  },
  "toc": {
   "base_numbering": 1,
   "nav_menu": {},
   "number_sections": true,
   "sideBar": true,
   "skip_h1_title": false,
   "title_cell": "Table of Contents",
   "title_sidebar": "Contents",
   "toc_cell": false,
   "toc_position": {},
   "toc_section_display": true,
   "toc_window_display": false
  }
 },
 "nbformat": 4,
 "nbformat_minor": 2
}
